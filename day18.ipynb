{
 "cells": [
  {
   "cell_type": "code",
   "execution_count": null,
   "id": "29d91caa-0352-4374-9308-dca412c32733",
   "metadata": {},
   "outputs": [],
   "source": [
    "STEPS FOR MACHINE LEARNING\n",
    "\n",
    "1.DATA COLLECTION\n",
    "algorithm of machine learning depends on quality and quantity of data\n",
    "\n",
    "2.DATA PREPROCESSING\n",
    "(exploratory data analysis)\n",
    "\n",
    "3.CHOOSING RIGHT MODEL\n",
    "(depends on data and problem)\n",
    "\n",
    "4.TRANIG MODEL THOUGH DATA\n",
    "(avoiding overfitting and underfitting)\n",
    "\n",
    "5.DEPLOYMENT\n",
    "(in web or app)\n",
    "\n",
    "6.MAINTANENCE"
   ]
  },
  {
   "cell_type": "code",
   "execution_count": null,
   "id": "5ac970dd-da75-43f8-a5d3-0b984fcc6a92",
   "metadata": {},
   "outputs": [],
   "source": [
    "TYPES OF MACHINE LEARNING\n",
    "\n",
    "1.SUPERVISED ML\n",
    "(apply on label data set)\n",
    "(do maping between input features and output label)\n",
    "(then it do prediction)\n",
    "algorithms used for SUPERVISED ML\n",
    "\n",
    "linear regression\n",
    "(regression have linear output)\n",
    "          random forest\n",
    "for classification:\n",
    "           decision tree\n",
    "           support vector\n",
    "(classification have catagorized output e.g(email is spam or not))\n",
    "\n",
    "2.UNSUPERVISED ML\n",
    "(have no label data set)\n",
    "(have no input features and output label)\n",
    "(have unlabeled data)\n",
    "(then we tell algorithm to learn from data)\n",
    "algorithms used for UNSUPERVISED ML\n",
    "\n",
    "3.REINFORCEMENT ML\n",
    "(algorithm learn from data byself)\n",
    "can used in robotics"
   ]
  },
  {
   "cell_type": "code",
   "execution_count": null,
   "id": "601c3875-477c-4a9f-bbca-cff4d1a17726",
   "metadata": {},
   "outputs": [],
   "source": [
    "TRY 'R' LANGUAGE\n",
    "TENSERFLOW LIBRARY\n",
    "CYCIT LEARN LIBRARY (for data analysis and data mining)\n",
    "KARIS LIBRARY\n",
    "PYTOCH LIBRARY\n",
    "AWS or MICROSOFT  DEPLOYMENT\n",
    "linkdin\n",
    "practice projects\n"
   ]
  },
  {
   "cell_type": "code",
   "execution_count": null,
   "id": "4c6d2451-e1b3-4c0b-bb91-1b425fac37cb",
   "metadata": {},
   "outputs": [],
   "source": [
    "**************AI SOFTWARE HOUSE******\n",
    "    \n",
    "K2X\n",
    "AFFINITY\n",
    "INDONEX\n"
   ]
  },
  {
   "cell_type": "code",
   "execution_count": 38,
   "id": "b0bce4f0-df2b-4740-a958-19c9b0279683",
   "metadata": {},
   "outputs": [
    {
     "data": {
      "text/html": [
       "<div>\n",
       "<style scoped>\n",
       "    .dataframe tbody tr th:only-of-type {\n",
       "        vertical-align: middle;\n",
       "    }\n",
       "\n",
       "    .dataframe tbody tr th {\n",
       "        vertical-align: top;\n",
       "    }\n",
       "\n",
       "    .dataframe thead th {\n",
       "        text-align: right;\n",
       "    }\n",
       "</style>\n",
       "<table border=\"1\" class=\"dataframe\">\n",
       "  <thead>\n",
       "    <tr style=\"text-align: right;\">\n",
       "      <th></th>\n",
       "      <th>test_id</th>\n",
       "      <th>description_x</th>\n",
       "      <th>description_y</th>\n",
       "      <th>same_security</th>\n",
       "    </tr>\n",
       "  </thead>\n",
       "  <tbody>\n",
       "    <tr>\n",
       "      <th>0</th>\n",
       "      <td>0</td>\n",
       "      <td>semtech corp</td>\n",
       "      <td>semtech corporation</td>\n",
       "      <td>NaN</td>\n",
       "    </tr>\n",
       "    <tr>\n",
       "      <th>1</th>\n",
       "      <td>1</td>\n",
       "      <td>vanguard mid cap index</td>\n",
       "      <td>vanguard midcap index - a</td>\n",
       "      <td>NaN</td>\n",
       "    </tr>\n",
       "    <tr>\n",
       "      <th>2</th>\n",
       "      <td>2</td>\n",
       "      <td>spdr gold trust gold shares</td>\n",
       "      <td>spdr gold trust spdr gold shares</td>\n",
       "      <td>NaN</td>\n",
       "    </tr>\n",
       "    <tr>\n",
       "      <th>3</th>\n",
       "      <td>3</td>\n",
       "      <td>vanguard total bond index adm</td>\n",
       "      <td>vanguard total bond market index</td>\n",
       "      <td>NaN</td>\n",
       "    </tr>\n",
       "    <tr>\n",
       "      <th>4</th>\n",
       "      <td>4</td>\n",
       "      <td>oakmark international fund class i</td>\n",
       "      <td>oakmark international cl i</td>\n",
       "      <td>NaN</td>\n",
       "    </tr>\n",
       "  </tbody>\n",
       "</table>\n",
       "</div>"
      ],
      "text/plain": [
       "   test_id                       description_x  \\\n",
       "0        0                        semtech corp   \n",
       "1        1              vanguard mid cap index   \n",
       "2        2         spdr gold trust gold shares   \n",
       "3        3       vanguard total bond index adm   \n",
       "4        4  oakmark international fund class i   \n",
       "\n",
       "                      description_y  same_security  \n",
       "0               semtech corporation            NaN  \n",
       "1         vanguard midcap index - a            NaN  \n",
       "2  spdr gold trust spdr gold shares            NaN  \n",
       "3  vanguard total bond market index            NaN  \n",
       "4        oakmark international cl i            NaN  "
      ]
     },
     "execution_count": 38,
     "metadata": {},
     "output_type": "execute_result"
    }
   ],
   "source": [
    "import pandas as pd  \n",
    "import numpy as np   \n",
    "import seaborn as sns \n",
    "import matplotlib.pyplot as plt \n",
    "file_path = r\"C:\\Users\\RF\\Desktop\\test.csv\"\n",
    "data = pd.read_csv(file_path)\n",
    "\n",
    "\n",
    "data.head(5)"
   ]
  },
  {
   "cell_type": "code",
   "execution_count": 36,
   "id": "d2ee7e85-c3fd-4328-8a4c-25dd202e0862",
   "metadata": {},
   "outputs": [
    {
     "name": "stdout",
     "output_type": "stream",
     "text": [
      "Shape of data: (5572, 2)\n",
      "<class 'pandas.core.frame.DataFrame'>\n",
      "RangeIndex: 5572 entries, 0 to 5571\n",
      "Data columns (total 2 columns):\n",
      " #   Column    Non-Null Count  Dtype \n",
      "---  ------    --------------  ----- \n",
      " 0   Category  5572 non-null   object\n",
      " 1   Message   5572 non-null   object\n",
      "dtypes: object(2)\n",
      "memory usage: 87.2+ KB\n",
      "None\n"
     ]
    },
    {
     "data": {
      "text/html": [
       "<div>\n",
       "<style scoped>\n",
       "    .dataframe tbody tr th:only-of-type {\n",
       "        vertical-align: middle;\n",
       "    }\n",
       "\n",
       "    .dataframe tbody tr th {\n",
       "        vertical-align: top;\n",
       "    }\n",
       "\n",
       "    .dataframe thead th {\n",
       "        text-align: right;\n",
       "    }\n",
       "</style>\n",
       "<table border=\"1\" class=\"dataframe\">\n",
       "  <thead>\n",
       "    <tr style=\"text-align: right;\">\n",
       "      <th></th>\n",
       "      <th>Category</th>\n",
       "      <th>Message</th>\n",
       "    </tr>\n",
       "  </thead>\n",
       "  <tbody>\n",
       "    <tr>\n",
       "      <th>count</th>\n",
       "      <td>5572</td>\n",
       "      <td>5572</td>\n",
       "    </tr>\n",
       "    <tr>\n",
       "      <th>unique</th>\n",
       "      <td>2</td>\n",
       "      <td>5157</td>\n",
       "    </tr>\n",
       "    <tr>\n",
       "      <th>top</th>\n",
       "      <td>ham</td>\n",
       "      <td>Sorry, I'll call later</td>\n",
       "    </tr>\n",
       "    <tr>\n",
       "      <th>freq</th>\n",
       "      <td>4825</td>\n",
       "      <td>30</td>\n",
       "    </tr>\n",
       "  </tbody>\n",
       "</table>\n",
       "</div>"
      ],
      "text/plain": [
       "       Category                 Message\n",
       "count      5572                    5572\n",
       "unique        2                    5157\n",
       "top         ham  Sorry, I'll call later\n",
       "freq       4825                      30"
      ]
     },
     "execution_count": 36,
     "metadata": {},
     "output_type": "execute_result"
    }
   ],
   "source": [
    "import pandas as pd  \n",
    "import numpy as np   \n",
    "import seaborn as sns \n",
    "import matplotlib.pyplot as plt \n",
    "file_path = r\"C:\\Users\\RF\\Desktop\\SPAM text message 20170820 - Data.csv\"\n",
    "data = pd.read_csv(file_path)\n",
    "# Check the shape of the dataset\n",
    "print(f\"Shape of data: {data.shape}\")\n",
    "\n",
    "# Check data types and null values\n",
    "print(data.info())\n",
    "\n",
    "# Summary statistics (mainly useful for numeric columns)\n",
    "data.describe()\n"
   ]
  },
  {
   "cell_type": "code",
   "execution_count": 16,
   "id": "1ddcd36a-e708-469d-9cbd-b36a32559f7c",
   "metadata": {},
   "outputs": [
    {
     "name": "stdout",
     "output_type": "stream",
     "text": [
      "Category    0\n",
      "Message     0\n",
      "dtype: int64\n"
     ]
    }
   ],
   "source": [
    "import pandas as pd  \n",
    "import numpy as np   \n",
    "import seaborn as sns \n",
    "import matplotlib.pyplot as plt \n",
    "file_path = r\"C:\\Users\\RF\\Desktop\\SPAM text message 20170820 - Data.csv\"\n",
    "data = pd.read_csv(file_path)\n",
    "print(data.isnull().sum())\n"
   ]
  },
  {
   "cell_type": "code",
   "execution_count": 18,
   "id": "1f3e9d8e-90eb-41ba-8c39-a37be70a907c",
   "metadata": {},
   "outputs": [
    {
     "name": "stdout",
     "output_type": "stream",
     "text": [
      "Category\n",
      "ham     4825\n",
      "spam     747\n",
      "Name: count, dtype: int64\n"
     ]
    },
    {
     "data": {
      "image/png": "[encoded data removed]",
      "text/plain": [
       "<Figure size 640x480 with 1 Axes>"
      ]
     },
     "metadata": {},
     "output_type": "display_data"
    }
   ],
   "source": [
    "import pandas as pd  \n",
    "import numpy as np   \n",
    "import seaborn as sns \n",
    "import matplotlib.pyplot as plt \n",
    "file_path = r\"C:\\Users\\RF\\Desktop\\SPAM text message 20170820 - Data.csv\"\n",
    "data = pd.read_csv(file_path)\n",
    "# Display unique labels and their counts\n",
    "print(data['Category'].value_counts())\n",
    "\n",
    "# Visualize it\n",
    "sns.countplot(x='Category', data=data)\n",
    "plt.title(\"Message Category Distribution\")\n",
    "plt.show()\n"
   ]
  },
  {
   "cell_type": "code",
   "execution_count": 20,
   "id": "9050497d-4893-46a4-938e-192860f06124",
   "metadata": {},
   "outputs": [
    {
     "name": "stdout",
     "output_type": "stream",
     "text": [
      "count    5572.000000\n",
      "mean       80.368988\n",
      "std        59.926946\n",
      "min         2.000000\n",
      "25%        35.750000\n",
      "50%        61.000000\n",
      "75%       122.000000\n",
      "max       910.000000\n",
      "Name: Message Length, dtype: float64\n"
     ]
    },
    {
     "data": {
      "image/png": "[encoded data removed]",
      "text/plain": [
       "<Figure size 640x480 with 1 Axes>"
      ]
     },
     "metadata": {},
     "output_type": "display_data"
    }
   ],
   "source": [
    "import pandas as pd  \n",
    "import numpy as np   \n",
    "import seaborn as sns \n",
    "import matplotlib.pyplot as plt \n",
    "file_path = r\"C:\\Users\\RF\\Desktop\\SPAM text message 20170820 - Data.csv\"\n",
    "data = pd.read_csv(file_path)\n",
    "# Add a new column for message length\n",
    "data['Message Length'] = data['Message'].apply(len)\n",
    "\n",
    "# Check some basic stats about message length\n",
    "print(data['Message Length'].describe())\n",
    "\n",
    "# Plot the distribution of message lengths by category\n",
    "sns.histplot(data=data, x='Message Length', hue='Category', bins=50, kde=True)\n",
    "plt.title(\"Distribution of Message Length by Category\")\n",
    "plt.show()\n"
   ]
  },
  {
   "cell_type": "code",
   "execution_count": 30,
   "id": "fee9470a-078e-45b5-badd-026aadadd301",
   "metadata": {},
   "outputs": [
    {
     "ename": "KeyError",
     "evalue": "'Message'",
     "output_type": "error",
     "traceback": [
      "\u001b[1;31m---------------------------------------------------------------------------\u001b[0m",
      "\u001b[1;31mKeyError\u001b[0m                                  Traceback (most recent call last)",
      "File \u001b[1;32mC:\\ProgramData\\anaconda3\\Lib\\site-packages\\pandas\\core\\indexes\\base.py:3805\u001b[0m, in \u001b[0;36mIndex.get_loc\u001b[1;34m(self, key)\u001b[0m\n\u001b[0;32m   3804\u001b[0m \u001b[38;5;28;01mtry\u001b[39;00m:\n\u001b[1;32m-> 3805\u001b[0m     \u001b[38;5;28;01mreturn\u001b[39;00m \u001b[38;5;28mself\u001b[39m\u001b[38;5;241m.\u001b[39m_engine\u001b[38;5;241m.\u001b[39mget_loc(casted_key)\n\u001b[0;32m   3806\u001b[0m \u001b[38;5;28;01mexcept\u001b[39;00m \u001b[38;5;167;01mKeyError\u001b[39;00m \u001b[38;5;28;01mas\u001b[39;00m err:\n",
      "File \u001b[1;32mindex.pyx:167\u001b[0m, in \u001b[0;36mpandas._libs.index.IndexEngine.get_loc\u001b[1;34m()\u001b[0m\n",
      "File \u001b[1;32mindex.pyx:196\u001b[0m, in \u001b[0;36mpandas._libs.index.IndexEngine.get_loc\u001b[1;34m()\u001b[0m\n",
      "File \u001b[1;32mpandas\\\\_libs\\\\hashtable_class_helper.pxi:7081\u001b[0m, in \u001b[0;36mpandas._libs.hashtable.PyObjectHashTable.get_item\u001b[1;34m()\u001b[0m\n",
      "File \u001b[1;32mpandas\\\\_libs\\\\hashtable_class_helper.pxi:7089\u001b[0m, in \u001b[0;36mpandas._libs.hashtable.PyObjectHashTable.get_item\u001b[1;34m()\u001b[0m\n",
      "\u001b[1;31mKeyError\u001b[0m: 'Message'",
      "\nThe above exception was the direct cause of the following exception:\n",
      "\u001b[1;31mKeyError\u001b[0m                                  Traceback (most recent call last)",
      "Cell \u001b[1;32mIn[30], line 13\u001b[0m\n\u001b[0;32m     10\u001b[0m     \u001b[38;5;28;01mreturn\u001b[39;00m re\u001b[38;5;241m.\u001b[39msub(\u001b[38;5;124mr\u001b[39m\u001b[38;5;124m'\u001b[39m\u001b[38;5;124m@\u001b[39m\u001b[38;5;124m\\\u001b[39m\u001b[38;5;124mw+\u001b[39m\u001b[38;5;124m'\u001b[39m, \u001b[38;5;124m'\u001b[39m\u001b[38;5;124m'\u001b[39m, text)\n\u001b[0;32m     12\u001b[0m \u001b[38;5;66;03m# Apply it to the 'Message' column\u001b[39;00m\n\u001b[1;32m---> 13\u001b[0m data[\u001b[38;5;124m'\u001b[39m\u001b[38;5;124mMessage\u001b[39m\u001b[38;5;124m'\u001b[39m] \u001b[38;5;241m=\u001b[39m data[\u001b[38;5;124m'\u001b[39m\u001b[38;5;124mMessage\u001b[39m\u001b[38;5;124m'\u001b[39m]\u001b[38;5;241m.\u001b[39mapply(remove_user_handles)\n\u001b[0;32m     14\u001b[0m \u001b[38;5;66;03m# Remove email addresses as well\u001b[39;00m\n\u001b[0;32m     15\u001b[0m \u001b[38;5;28;01mdef\u001b[39;00m \u001b[38;5;21mclean_text\u001b[39m(text):\n",
      "File \u001b[1;32mC:\\ProgramData\\anaconda3\\Lib\\site-packages\\pandas\\core\\frame.py:4102\u001b[0m, in \u001b[0;36mDataFrame.__getitem__\u001b[1;34m(self, key)\u001b[0m\n\u001b[0;32m   4100\u001b[0m \u001b[38;5;28;01mif\u001b[39;00m \u001b[38;5;28mself\u001b[39m\u001b[38;5;241m.\u001b[39mcolumns\u001b[38;5;241m.\u001b[39mnlevels \u001b[38;5;241m>\u001b[39m \u001b[38;5;241m1\u001b[39m:\n\u001b[0;32m   4101\u001b[0m     \u001b[38;5;28;01mreturn\u001b[39;00m \u001b[38;5;28mself\u001b[39m\u001b[38;5;241m.\u001b[39m_getitem_multilevel(key)\n\u001b[1;32m-> 4102\u001b[0m indexer \u001b[38;5;241m=\u001b[39m \u001b[38;5;28mself\u001b[39m\u001b[38;5;241m.\u001b[39mcolumns\u001b[38;5;241m.\u001b[39mget_loc(key)\n\u001b[0;32m   4103\u001b[0m \u001b[38;5;28;01mif\u001b[39;00m is_integer(indexer):\n\u001b[0;32m   4104\u001b[0m     indexer \u001b[38;5;241m=\u001b[39m [indexer]\n",
      "File \u001b[1;32mC:\\ProgramData\\anaconda3\\Lib\\site-packages\\pandas\\core\\indexes\\base.py:3812\u001b[0m, in \u001b[0;36mIndex.get_loc\u001b[1;34m(self, key)\u001b[0m\n\u001b[0;32m   3807\u001b[0m     \u001b[38;5;28;01mif\u001b[39;00m \u001b[38;5;28misinstance\u001b[39m(casted_key, \u001b[38;5;28mslice\u001b[39m) \u001b[38;5;129;01mor\u001b[39;00m (\n\u001b[0;32m   3808\u001b[0m         \u001b[38;5;28misinstance\u001b[39m(casted_key, abc\u001b[38;5;241m.\u001b[39mIterable)\n\u001b[0;32m   3809\u001b[0m         \u001b[38;5;129;01mand\u001b[39;00m \u001b[38;5;28many\u001b[39m(\u001b[38;5;28misinstance\u001b[39m(x, \u001b[38;5;28mslice\u001b[39m) \u001b[38;5;28;01mfor\u001b[39;00m x \u001b[38;5;129;01min\u001b[39;00m casted_key)\n\u001b[0;32m   3810\u001b[0m     ):\n\u001b[0;32m   3811\u001b[0m         \u001b[38;5;28;01mraise\u001b[39;00m InvalidIndexError(key)\n\u001b[1;32m-> 3812\u001b[0m     \u001b[38;5;28;01mraise\u001b[39;00m \u001b[38;5;167;01mKeyError\u001b[39;00m(key) \u001b[38;5;28;01mfrom\u001b[39;00m \u001b[38;5;21;01merr\u001b[39;00m\n\u001b[0;32m   3813\u001b[0m \u001b[38;5;28;01mexcept\u001b[39;00m \u001b[38;5;167;01mTypeError\u001b[39;00m:\n\u001b[0;32m   3814\u001b[0m     \u001b[38;5;66;03m# If we have a listlike key, _check_indexing_error will raise\u001b[39;00m\n\u001b[0;32m   3815\u001b[0m     \u001b[38;5;66;03m#  InvalidIndexError. Otherwise we fall through and re-raise\u001b[39;00m\n\u001b[0;32m   3816\u001b[0m     \u001b[38;5;66;03m#  the TypeError.\u001b[39;00m\n\u001b[0;32m   3817\u001b[0m     \u001b[38;5;28mself\u001b[39m\u001b[38;5;241m.\u001b[39m_check_indexing_error(key)\n",
      "\u001b[1;31mKeyError\u001b[0m: 'Message'"
     ]
    }
   ],
   "source": [
    "import re\n",
    "import pandas as pd  \n",
    "import numpy as np   \n",
    "import seaborn as sns \n",
    "import matplotlib.pyplot as plt \n",
    "file_path = r\"C:\\Users\\RF\\Desktop\\test.csv\"\n",
    "data = pd.read_csv(file_path)\n",
    "# Define a function to remove user handles\n",
    "def remove_user_handles(text):\n",
    "    return re.sub(r'@\\w+', '', text)\n",
    "\n",
    "# Apply it to the 'Message' column\n",
    "data['Message'] = data['Message'].apply(remove_user_handles)\n",
    "# Remove email addresses as well\n",
    "def clean_text(text):\n",
    "    text = re.sub(r'@\\w+', '', text)  # Remove @usernames\n",
    "    text = re.sub(r'\\S+@\\S+', '', text)  # Remove email addresses\n",
    "    return text\n",
    "\n",
    "data['Message'] = data['Message'].apply(clean_text)\n",
    "import re\n",
    "\n",
    "# Function to clean the message\n",
    "def clean_text(text):\n",
    "    text = re.sub(r'@\\w+', '', text)  # Remove @usernames\n",
    "    text = re.sub(r'\\S+@\\S+', '', text)  # Remove email addresses\n",
    "    return text.strip()\n",
    "\n",
    "# Create a new column for the cleaned message\n",
    "data['Cleaned_Message'] = data['Message'].apply(clean_text)\n",
    "\n",
    "# Optional: display a few rows to compare\n",
    "print(data[['Message', 'Cleaned_Message']].tail())\n"
   ]
  },
  {
   "cell_type": "code",
   "execution_count": null,
   "id": "bdd75d15-b277-4e05-8cee-4969647ad92d",
   "metadata": {},
   "outputs": [],
   "source": []
  }
 ],
 "metadata": {
  "kernelspec": {
   "display_name": "Python [conda env:base] *",
   "language": "python",
   "name": "conda-base-py"
  },
  "language_info": {
   "codemirror_mode": {
    "name": "ipython",
    "version": 3
   },
   "file_extension": ".py",
   "mimetype": "text/x-python",
   "name": "python",
   "nbconvert_exporter": "python",
   "pygments_lexer": "ipython3",
   "version": "3.12.7"
  }
 },
 "nbformat": 4,
 "nbformat_minor": 5
}

{
 "cells": [
  {
   "cell_type": "code",
   "execution_count": 9,
   "id": "b0262be7-7dbb-4071-a590-5166721b87a7",
   "metadata": {},
   "outputs": [
    {
     "name": "stdout",
     "output_type": "stream",
     "text": [
      "Fruits    [apple, banana, orange, grapes, pepsi]\n",
      "dtype: object\n"
     ]
    }
   ],
   "source": [
    "import pandas as pd\n",
    "data = {\n",
    "    \"Fruits\": [\"apple\", \"banana\", \"orange\", \"grapes\",\"pepsi\"]\n",
    "}\n",
    "series = pd.Series(data)\n",
    "print(series)"
   ]
  },
  {
   "cell_type": "code",
   "execution_count": 11,
   "id": "4bca37e7-a092-409b-bf51-18a413784a71",
   "metadata": {},
   "outputs": [
    {
     "name": "stdout",
     "output_type": "stream",
     "text": [
      "v     apple\n",
      "w    banana\n",
      "x    orange\n",
      "y    grapes\n",
      "z     pepsi\n",
      "dtype: object\n"
     ]
    }
   ],
   "source": [
    "import pandas as pd\n",
    "\n",
    "a = [\"apple\", \"banana\", \"orange\", \"grapes\",\"pepsi\"]\n",
    "\n",
    "myvar = pd.Series(a, index = [\"v\",\"w\",\"x\", \"y\", \"z\"])\n",
    "\n",
    "print(myvar)"
   ]
  },
  {
   "cell_type": "code",
   "execution_count": 17,
   "id": "cc583072-be03-48ef-8abf-f79826640b83",
   "metadata": {},
   "outputs": [
    {
     "name": "stdout",
     "output_type": "stream",
     "text": [
      "     Name  GPA\n",
      "0   Ahmad  3.8\n",
      "1     Ali  3.6\n",
      "2   Sadam  3.9\n",
      "3    Khan  3.7\n",
      "4  Tufail  3.5\n"
     ]
    }
   ],
   "source": [
    "import pandas as pd\n",
    "\n",
    "data = {\n",
    "    'Name': ['Ahmad', 'Ali', 'Sadam', 'Khan', 'Tufail'],\n",
    "    'Age': [20, 21, 22, 23, 24],\n",
    "    'Department': ['Physics', 'Mathematics', 'Computer Science', 'Biology', 'Chemistry'],\n",
    "    'GPA': [3.8, 3.6, 3.9, 3.7, 3.5]\n",
    "}\n",
    "\n",
    "df = pd.DataFrame(data)\n",
    "\n",
    "result = df[['Name', 'GPA']]\n",
    "print(result)\n"
   ]
  },
  {
   "cell_type": "code",
   "execution_count": 53,
   "id": "fe0d4a33-500d-4248-aa86-ae07f7b4b0ea",
   "metadata": {},
   "outputs": [
    {
     "name": "stdout",
     "output_type": "stream",
     "text": [
      "         Math  Physics  CS    Average\n",
      "Name                                 \n",
      "ali        85       90  95  90.000000\n",
      "hanzala    95       89  82  88.666667\n"
     ]
    }
   ],
   "source": [
    "import pandas as pd\n",
    "\n",
    "# Data for the DataFrame\n",
    "data = {\n",
    "    'Name': ['ali', 'ahmad', 'sadam', 'khan', 'abdullah', 'kashif', 'hanzala', 'wajeeha', 'zahrah', 'fatima'],\n",
    "    'Math': [85, 90, 78, 92, 88, 76, 95, 89, 91, 82],\n",
    "    'Physics': [90, 85, 92, 88, 76, 95, 89, 91, 82, 78],\n",
    "    'CS': [95, 92, 85, 90, 89, 91, 82, 78, 88, 76],\n",
    "    'Department': ['CS', 'Math', 'CS', 'Physics', 'CS', 'Math', 'CS', 'Physics', 'CS', 'Math']\n",
    "}\n",
    "\n",
    "df = pd.DataFrame(data)\n",
    "\n",
    "df['Average'] = df[['Math', 'Physics', 'CS']].mean(axis=1)\n",
    "\n",
    "# top 5 students with the highest average\n",
    "top_5_students = df.nlargest(5, 'Average')\n",
    "\n",
    "# Select only \"CS\" \n",
    "cs_students = top_5_students[top_5_students['Department'] == 'CS']\n",
    "\n",
    "# Set the Name column as index \n",
    "final_df = cs_students.set_index('Name')[['Math', 'Physics', 'CS', 'Average']]\n",
    "print(final_df)\n"
   ]
  },
  {
   "cell_type": "code",
   "execution_count": 55,
   "id": "23ee5aad-5b41-4dca-8bbb-c1d53408769a",
   "metadata": {},
   "outputs": [
    {
     "name": "stdout",
     "output_type": "stream",
     "text": [
      "       Name  GPA  Credits_Completed\n",
      "0      khan  3.9                110\n",
      "1    zahrah  3.9                150\n",
      "2   hanzala  3.8                130\n",
      "3  abdullah  3.7                120\n",
      "4    fatima  3.7                160\n",
      "5     ahmad  3.6                100\n",
      "6   wajeeha  3.6                140\n"
     ]
    }
   ],
   "source": [
    "import pandas as pd\n",
    "\n",
    "data = {\n",
    "    'Name': ['ali', 'ahmad', 'sadam', 'khan', 'abdullah', 'kashif', 'hanzala', 'wajeeha', 'zahrah', 'fatima'],\n",
    "    'Department': ['CS', 'SE', 'Math', 'CS', 'SE', 'Math', 'CS', 'SE', 'CS', 'SE'],\n",
    "    'Age': [20, 22, 21, 23, 24, 20, 25, 26, 27, 28],\n",
    "    'GPA': [3.8, 3.6, 3.5, 3.9, 3.7, 3.4, 3.8, 3.6, 3.9, 3.7],\n",
    "    'Credits_Completed': [80, 100, 70, 110, 120, 60, 130, 140, 150, 160]\n",
    "}\n",
    "\n",
    "df = pd.DataFrame(data)\n",
    "\n",
    "# Filter \n",
    "filtered_df = df[(df['Department'].isin(['CS', 'SE'])) & (df['Age'] > 21) & (df['Credits_Completed'] > 90)]\n",
    "\n",
    "# specific columns\n",
    "selected_columns = filtered_df[['Name', 'GPA', 'Credits_Completed']]\n",
    "\n",
    "#GPA in descending order\n",
    "sorted_df = selected_columns.sort_values(by='GPA', ascending=False)\n",
    "\n",
    "# Reset the index\n",
    "final_df = sorted_df.reset_index(drop=True)\n",
    "print(final_df)\n"
   ]
  },
  {
   "cell_type": "code",
   "execution_count": 49,
   "id": "6a99530e-4738-4ad8-9be4-a76e27dc12ee",
   "metadata": {},
   "outputs": [
    {
     "name": "stdout",
     "output_type": "stream",
     "text": [
      "Favorite Fruits Series:\n",
      "A         Apple\n",
      "B        Banana\n",
      "C        Cherry\n",
      "D          Date\n",
      "E    Elderberry\n",
      "dtype: object\n",
      "\n",
      "DataFrame:\n",
      "   Student  Grade Department\n",
      "0    Alice     85       Math\n",
      "1      Bob     78    Science\n",
      "2  Charlie     92       Math\n",
      "3    David     88    History\n",
      "4      Eva     67    Science\n",
      "\n",
      "Student Column:\n",
      "0      Alice\n",
      "1        Bob\n",
      "2    Charlie\n",
      "3      David\n",
      "4        Eva\n",
      "Name: Student, dtype: object\n",
      "\n",
      "Rows with Grade > 80:\n",
      "   Student  Grade Department\n",
      "0    Alice     85       Math\n",
      "2  Charlie     92       Math\n",
      "3    David     88    History\n",
      "\n",
      "DataFrame with Student as Index:\n",
      "         Grade Department\n",
      "Student                  \n",
      "Alice       85       Math\n",
      "Bob         78    Science\n",
      "Charlie     92       Math\n",
      "David       88    History\n",
      "Eva         67    Science\n"
     ]
    }
   ],
   "source": [
    "import pandas as pd\n",
    "\n",
    "# Step 1: Create a Series of favorite fruits\n",
    "favorite_fruits = pd.Series(['Apple', 'Banana', 'Cherry', 'Date', 'Elderberry'], \n",
    "                             index=['A', 'B', 'C', 'D', 'E'])\n",
    "print(\"Favorite Fruits Series:\")\n",
    "print(favorite_fruits)\n",
    "\n",
    "# Step 2: Create a DataFrame\n",
    "data = {\n",
    "    'Student': ['Alice', 'Bob', 'Charlie', 'David', 'Eva'],\n",
    "    'Grade': [85, 78, 92, 88, 67],\n",
    "    'Department': ['Math', 'Science', 'Math', 'History', 'Science']\n",
    "}\n",
    "df = pd.DataFrame(data)\n",
    "print(\"\\nDataFrame:\")\n",
    "print(df)\n",
    "\n",
    "# Step 3: Select only the Student column\n",
    "student_column = df['Student']\n",
    "print(\"\\nStudent Column:\")\n",
    "print(student_column)\n",
    "\n",
    "# Step 4: Select rows where Grade > 80\n",
    "high_grades = df[df['Grade'] > 80]\n",
    "print(\"\\nRows with Grade > 80:\")\n",
    "print(high_grades)\n",
    "\n",
    "# Step 5: Change index to Student\n",
    "df.set_index('Student', inplace=True)\n",
    "print(\"\\nDataFrame with Student as Index:\")\n",
    "print(df)"
   ]
  },
  {
   "cell_type": "code",
   "execution_count": 59,
   "id": "f7041e86-61e4-45dc-9065-e9b685a3e559",
   "metadata": {},
   "outputs": [
    {
     "name": "stdout",
     "output_type": "stream",
     "text": [
      "   Emp_ID      Name Department   Salary  Experience\n",
      "0       1       ali         HR  55000.0         1.0\n",
      "2       3     sadam         HR  60500.0         0.5\n",
      "4       5  abdullah         HR  63800.0         1.5\n",
      "7       8   wajeeha         HR  57200.0         0.8\n",
      "\n",
      "Full Updated DataFrame:\n",
      "   Emp_ID      Name Department   Salary  Experience   Level\n",
      "0       1       ali         HR  55000.0         1.0  Junior\n",
      "1       2     ahmad         IT  60000.0         5.0     Mid\n",
      "2       3     sadam         HR  60500.0         0.5  Junior\n",
      "3       4      khan  Marketing  70000.0         8.0  Senior\n",
      "4       5  abdullah         HR  63800.0         1.5  Junior\n",
      "5       6    kashif         IT  65000.0         6.0     Mid\n",
      "6       7   hanzala  Marketing  72000.0         9.0  Senior\n",
      "7       8   wajeeha         HR  57200.0         0.8  Junior\n",
      "8       9    zahrah         IT  68000.0         7.0  Senior\n",
      "9      10    fatima  Marketing  75000.0        10.0  Senior\n"
     ]
    },
    {
     "name": "stderr",
     "output_type": "stream",
     "text": [
      "C:\\Users\\RF\\AppData\\Local\\Temp\\ipykernel_10644\\2456555994.py:17: FutureWarning: Setting an item of incompatible dtype is deprecated and will raise an error in a future version of pandas. Value '[55000. 60500. 63800. 57200.]' has dtype incompatible with int64, please explicitly cast to a compatible dtype first.\n",
      "  df.loc[selected_employees.index, 'Salary'] *= 1.10\n"
     ]
    }
   ],
   "source": [
    "import pandas as pd\n",
    "\n",
    "data = {\n",
    "    'Emp_ID': [1, 2, 3, 4, 5, 6, 7, 8, 9, 10],\n",
    "    'Name': ['ali', 'ahmad', 'sadam', 'khan', 'abdullah', 'kashif', 'hanzala', 'wajeeha', 'zahrah', 'fatima'],\n",
    "    'Department': ['HR', 'IT', 'HR', 'Marketing', 'HR', 'IT', 'Marketing', 'HR', 'IT', 'Marketing'],\n",
    "    'Salary': [50000, 60000, 55000, 70000, 58000, 65000, 72000, 52000, 68000, 75000],\n",
    "    'Experience': [1, 5, 0.5, 8, 1.5, 6, 9, 0.8, 7, 10]\n",
    "}\n",
    "\n",
    "df = pd.DataFrame(data)\n",
    "\n",
    "# employees\n",
    "selected_employees = df[(df['Experience'] < 2) | (df['Department'] == 'HR')]\n",
    "\n",
    "# Update salaries\n",
    "df.loc[selected_employees.index, 'Salary'] *= 1.10\n",
    "\n",
    "# updated employees\n",
    "updated_employees = df[(df['Experience'] < 2) | (df['Department'] == 'HR')]\n",
    "print(updated_employees)\n",
    "\n",
    "# Create a new column \"Level\"\n",
    "df['Level'] = pd.cut(df['Experience'], bins=[0, 3, 6, float('inf')], labels=['Junior', 'Mid', 'Senior'])\n",
    "\n",
    "# Display the full updated DataFrame\n",
    "print(\"\\nFull Updated DataFrame:\")\n",
    "print(df)\n"
   ]
  },
  {
   "cell_type": "code",
   "execution_count": 61,
   "id": "bec63b0a-ab7f-4e5a-a7ef-dbce4a67cd8a",
   "metadata": {},
   "outputs": [
    {
     "name": "stdout",
     "output_type": "stream",
     "text": [
      "Original DataFrame:\n",
      "                           Name  GPA    Year\n",
      "Department Student_ID                       \n",
      "CS         1                ali  3.8   First\n",
      "           2              ahmad  3.6  Second\n",
      "           3              sadam  3.9   Final\n",
      "EE         4               khan  3.7   First\n",
      "           5           abdullah  3.5  Second\n",
      "           6             kashif  3.4   Final\n",
      "ME         7            hanzala  3.8   First\n",
      "           8            wajeeha  3.6  Second\n",
      "           9             zahrah  3.9   Final\n",
      "           10            fatima  3.7   First\n",
      "\n",
      "Students from CS department with GPA > 3.0:\n",
      "             Name  GPA    Year\n",
      "Student_ID                    \n",
      "1             ali  3.8   First\n",
      "2           ahmad  3.6  Second\n",
      "3           sadam  3.9   Final\n",
      "\n",
      "Students from EE department in Final Year:\n",
      "              Name  GPA   Year\n",
      "Student_ID                    \n",
      "6           kashif  3.4  Final\n",
      "\n",
      "DataFrame sorted by GPA within each department:\n",
      "                           Name  GPA    Year\n",
      "Department Student_ID                       \n",
      "CS         3              sadam  3.9   Final\n",
      "           1                ali  3.8   First\n",
      "           2              ahmad  3.6  Second\n",
      "EE         4               khan  3.7   First\n",
      "           5           abdullah  3.5  Second\n",
      "           6             kashif  3.4   Final\n",
      "ME         9             zahrah  3.9   Final\n",
      "           7            hanzala  3.8   First\n",
      "           10            fatima  3.7   First\n",
      "           8            wajeeha  3.6  Second\n",
      "\n",
      "Final DataFrame after resetting index:\n",
      "  Department  Student_ID      Name  GPA    Year\n",
      "0         CS           3     sadam  3.9   Final\n",
      "1         CS           1       ali  3.8   First\n",
      "2         CS           2     ahmad  3.6  Second\n",
      "3         EE           4      khan  3.7   First\n",
      "4         EE           5  abdullah  3.5  Second\n",
      "5         EE           6    kashif  3.4   Final\n",
      "6         ME           9    zahrah  3.9   Final\n",
      "7         ME           7   hanzala  3.8   First\n",
      "8         ME          10    fatima  3.7   First\n",
      "9         ME           8   wajeeha  3.6  Second\n"
     ]
    }
   ],
   "source": [
    "import pandas as pd\n",
    "\n",
    "# Data for the DataFrame\n",
    "data = {\n",
    "    'Name':['ali', 'ahmad', 'sadam', 'khan', 'abdullah', 'kashif', 'hanzala', 'wajeeha', 'zahrah', 'fatima'],\n",
    "    'GPA': [3.8, 3.6, 3.9, 3.7, 3.5, 3.4, 3.8, 3.6, 3.9, 3.7],\n",
    "    'Year': ['First', 'Second', 'Final', 'First', 'Second', 'Final', 'First', 'Second', 'Final', 'First']\n",
    "}\n",
    "\n",
    "# Create MultiIndex tuples\n",
    "index_tuples = [\n",
    "    ('CS', 1), ('CS', 2), ('CS', 3),\n",
    "    ('EE', 4), ('EE', 5), ('EE', 6),\n",
    "    ('ME', 7), ('ME', 8), ('ME', 9), ('ME', 10)\n",
    "]\n",
    "\n",
    "# Create DataFrame\n",
    "df = pd.DataFrame(data, index=pd.MultiIndex.from_tuples(index_tuples, names=['Department', 'Student_ID']))\n",
    "\n",
    "print(\"Original DataFrame:\")\n",
    "print(df)\n",
    "\n",
    "# Select students from \"CS\" department with GPA > 3.0\n",
    "cs_students = df.loc[(slice(None), slice(None)), :].xs('CS', level='Department')\n",
    "cs_students_gpa = cs_students[cs_students['GPA'] > 3.0]\n",
    "print(\"\\nStudents from CS department with GPA > 3.0:\")\n",
    "print(cs_students_gpa)\n",
    "\n",
    "# Select students from \"EE\" department in \"Final Year\"\n",
    "ee_students_final_year = df.loc[(slice(None), slice(None)), :].xs('EE', level='Department')\n",
    "ee_students_final_year = ee_students_final_year[ee_students_final_year['Year'] == 'Final']\n",
    "print(\"\\nStudents from EE department in Final Year:\")\n",
    "print(ee_students_final_year)\n",
    "\n",
    "# Sort the DataFrame by GPA in descending order within each department\n",
    "df_sorted = pd.concat([group.sort_values(by='GPA', ascending=False) for _, group in df.groupby(level=0)])\n",
    "print(\"\\nDataFrame sorted by GPA within each department:\")\n",
    "print(df_sorted)\n",
    "\n",
    "# Reset the index and display the result\n",
    "df_reset = df_sorted.reset_index()\n",
    "print(\"\\nFinal DataFrame after resetting index:\")\n",
    "print(df_reset)\n"
   ]
  },
  {
   "cell_type": "code",
   "execution_count": null,
   "id": "8205f1b3-66b9-4898-a2fd-882c8274fff9",
   "metadata": {},
   "outputs": [],
   "source": []
  }
 ],
 "metadata": {
  "kernelspec": {
   "display_name": "Python [conda env:base] *",
   "language": "python",
   "name": "conda-base-py"
  },
  "language_info": {
   "codemirror_mode": {
    "name": "ipython",
    "version": 3
   },
   "file_extension": ".py",
   "mimetype": "text/x-python",
   "name": "python",
   "nbconvert_exporter": "python",
   "pygments_lexer": "ipython3",
   "version": "3.12.7"
  }
 },
 "nbformat": 4,
 "nbformat_minor": 5
}

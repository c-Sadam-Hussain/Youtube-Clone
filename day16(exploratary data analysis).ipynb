{
 "cells": [
  {
   "cell_type": "raw",
   "id": "0ac2c61e-46da-4312-a289-a272fb63aad2",
   "metadata": {},
   "source": [
    "#####   exploratary data analysis  #####\n",
    "\n",
    "read_csv()\n",
    "df.head(5)\n",
    "df.tail(5)\n",
    "df.datatypes\n",
    "df.drop(    ,axis=1)\n",
    "df.rename(column[])\n",
    "df.shape()\n",
    "df.duplicated()\n",
    "df.count() \n",
    "df.drop_duplicated()\n",
    "\n",
    "df.isnull().sum()\n",
    "df.dropna()\n",
    "missing.dropna , can delete that whole row or column or replace with 0\n",
    "we can do replacing nonanumber with mean\n",
    "we can also do backward fill or forward fill\n",
    "\n",
    "dropping outlyers by taking only IQR (inter quartile range)\n",
    "deleting values other than interquartile range\n",
    "\n",
    "boxplot is used for univeriate graph (one veriable)\n",
    "box plot can show outlyers\n",
    "\n",
    "corelation can be positive or negative\n",
    "biveriate graph (two veriables)\n",
    "heatmap graph is used for corelation\n",
    "can use scatter plot\n",
    "\n",
    "multivariate graph \n",
    "pie gragh\n",
    "count graph\n",
    "\n",
    "histogram for frequency distribution\n"
   ]
  },
  {
   "cell_type": "code",
   "execution_count": 9,
   "id": "7ac259d6-b3b0-4383-882e-e42558502700",
   "metadata": {},
   "outputs": [
    {
     "name": "stdout",
     "output_type": "stream",
     "text": [
      "File loaded successfully!\n",
      "\n",
      "Preview of the first 5 rows:\n",
      "   constructorStandingsId  raceId  constructorId  points  position  \\\n",
      "0                       1      18              1    14.0         1   \n",
      "1                       2      18              2     8.0         3   \n",
      "2                       3      18              3     9.0         2   \n",
      "3                       4      18              4     5.0         4   \n",
      "4                       5      18              5     2.0         5   \n",
      "\n",
      "  positionText  wins  \n",
      "0            1     1  \n",
      "1            3     0  \n",
      "2            2     0  \n",
      "3            4     0  \n",
      "4            5     0  \n"
     ]
    }
   ],
   "source": [
    "import pandas as pd  \n",
    "import numpy as np   \n",
    "import seaborn as sns \n",
    "import matplotlib.pyplot as plt \n",
    "file_path = r\"C:\\Users\\RF\\Desktop\\constructor_standings.csv\"\n",
    "data = pd.read_csv(file_path)\n",
    "\n",
    "\n",
    "print(data.head(5))"
   ]
  },
  {
   "cell_type": "code",
   "execution_count": 11,
   "id": "c7d2e621-b4d1-4460-a62d-16ce0d8b8440",
   "metadata": {},
   "outputs": [
    {
     "name": "stdout",
     "output_type": "stream",
     "text": [
      "       constructorStandingsId  raceId  constructorId  points  position  \\\n",
      "13386                   28978    1144             15     4.0        10   \n",
      "13387                   28979    1144            210    58.0         7   \n",
      "13388                   28980    1144            215    46.0         8   \n",
      "13389                   28981    1144              3    17.0         9   \n",
      "13390                   28982    1144            214    65.0         6   \n",
      "\n",
      "      positionText  wins  \n",
      "13386           10     0  \n",
      "13387            7     0  \n",
      "13388            8     0  \n",
      "13389            9     0  \n",
      "13390            6     0  \n"
     ]
    }
   ],
   "source": [
    "import pandas as pd  \n",
    "import numpy as np   \n",
    "import seaborn as sns \n",
    "import matplotlib.pyplot as plt \n",
    "file_path = r\"C:\\Users\\RF\\Desktop\\constructor_standings.csv\"\n",
    "data = pd.read_csv(file_path)\n",
    "\n",
    "print(data.tail(5))"
   ]
  },
  {
   "cell_type": "code",
   "execution_count": 13,
   "id": "9c64d11b-028a-42f9-8f79-055d274ba614",
   "metadata": {},
   "outputs": [
    {
     "name": "stdout",
     "output_type": "stream",
     "text": [
      "constructorStandingsId      int64\n",
      "raceId                      int64\n",
      "constructorId               int64\n",
      "points                    float64\n",
      "position                    int64\n",
      "positionText               object\n",
      "wins                        int64\n",
      "dtype: object\n"
     ]
    }
   ],
   "source": [
    "import pandas as pd  \n",
    "import numpy as np   \n",
    "import seaborn as sns \n",
    "import matplotlib.pyplot as plt \n",
    "file_path = r\"C:\\Users\\RF\\Desktop\\constructor_standings.csv\"\n",
    "data = pd.read_csv(file_path)\n",
    "print(data.dtypes)"
   ]
  },
  {
   "cell_type": "code",
   "execution_count": 29,
   "id": "02628c63-e9ba-406e-bfae-cc8508482b06",
   "metadata": {},
   "outputs": [
    {
     "name": "stdout",
     "output_type": "stream",
     "text": [
      "   raceId  constructorId  points  position positionText  wins\n",
      "0      18              1    14.0         1            1     1\n",
      "1      18              2     8.0         3            3     0\n",
      "2      18              3     9.0         2            2     0\n",
      "3      18              4     5.0         4            4     0\n",
      "4      18              5     2.0         5            5     0\n"
     ]
    }
   ],
   "source": [
    "import pandas as pd\n",
    "import numpy as np\n",
    "import seaborn as sns\n",
    "import matplotlib.pyplot as plt\n",
    "\n",
    "file_path = r\"C:\\Users\\RF\\Desktop\\constructor_standings.csv\"\n",
    "\n",
    "df = pd.read_csv(file_path)\n",
    "df.drop(df.columns[0], axis=1, inplace=True)\n",
    "print(df.head())"
   ]
  },
  {
   "cell_type": "code",
   "execution_count": 31,
   "id": "aaf0c11b-6553-4dbb-bd95-b229b31e9f06",
   "metadata": {},
   "outputs": [
    {
     "name": "stdout",
     "output_type": "stream",
     "text": [
      "   constructorStandingsId  matchId  constructorId  points  position  \\\n",
      "0                       1       18              1    14.0         1   \n",
      "1                       2       18              2     8.0         3   \n",
      "2                       3       18              3     9.0         2   \n",
      "3                       4       18              4     5.0         4   \n",
      "4                       5       18              5     2.0         5   \n",
      "\n",
      "  positionText  wins  \n",
      "0            1     1  \n",
      "1            3     0  \n",
      "2            2     0  \n",
      "3            4     0  \n",
      "4            5     0  \n"
     ]
    }
   ],
   "source": [
    "import pandas as pd\n",
    "import numpy as np\n",
    "import seaborn as sns\n",
    "import matplotlib.pyplot as plt\n",
    "\n",
    "file_path = r\"C:\\Users\\RF\\Desktop\\constructor_standings.csv\"\n",
    "\n",
    "df = pd.read_csv(file_path)\n",
    "\n",
    "# Rename 'raceId' to 'matchId'\n",
    "df.rename(columns={'raceId': 'matchId'}, inplace=True)\n",
    "\n",
    "print(df.head())\n"
   ]
  },
  {
   "cell_type": "code",
   "execution_count": 33,
   "id": "6ab27eef-9743-4528-b413-e2c350e036f9",
   "metadata": {},
   "outputs": [
    {
     "name": "stdout",
     "output_type": "stream",
     "text": [
      "(13391, 7)\n"
     ]
    }
   ],
   "source": [
    "import pandas as pd\n",
    "import numpy as np\n",
    "import seaborn as sns\n",
    "import matplotlib.pyplot as plt\n",
    "\n",
    "file_path = r\"C:\\Users\\RF\\Desktop\\constructor_standings.csv\"\n",
    "df = pd.read_csv(file_path)\n",
    "\n",
    "print(df.shape)\n"
   ]
  },
  {
   "cell_type": "code",
   "execution_count": 35,
   "id": "948a9b6e-6cac-4719-8cd1-60dba7c59945",
   "metadata": {},
   "outputs": [
    {
     "name": "stdout",
     "output_type": "stream",
     "text": [
      "0        False\n",
      "1        False\n",
      "2        False\n",
      "3        False\n",
      "4        False\n",
      "         ...  \n",
      "13386    False\n",
      "13387    False\n",
      "13388    False\n",
      "13389    False\n",
      "13390    False\n",
      "Length: 13391, dtype: bool\n"
     ]
    }
   ],
   "source": [
    "import pandas as pd\n",
    "import numpy as np\n",
    "import seaborn as sns\n",
    "import matplotlib.pyplot as plt\n",
    "\n",
    "file_path = r\"C:\\Users\\RF\\Desktop\\constructor_standings.csv\"\n",
    "df = pd.read_csv(file_path)\n",
    "\n",
    "print(df.duplicated())\n"
   ]
  },
  {
   "cell_type": "code",
   "execution_count": 39,
   "id": "35282af9-041a-4a22-8437-ebd265af6a8b",
   "metadata": {},
   "outputs": [
    {
     "name": "stdout",
     "output_type": "stream",
     "text": [
      "Number of duplicates: 0\n"
     ]
    }
   ],
   "source": [
    "import pandas as pd\n",
    "import numpy as np\n",
    "import seaborn as sns\n",
    "import matplotlib.pyplot as plt\n",
    "\n",
    "file_path = r\"C:\\Users\\RF\\Desktop\\constructor_standings.csv\"\n",
    "df = pd.read_csv(file_path)\n",
    "print(\"Number of duplicates:\", df.duplicated().sum())\n"
   ]
  },
  {
   "cell_type": "code",
   "execution_count": 43,
   "id": "4ff8f6b2-184e-4798-a9e8-6398373613e4",
   "metadata": {},
   "outputs": [
    {
     "name": "stdout",
     "output_type": "stream",
     "text": [
      "constructorStandingsId    13391\n",
      "raceId                    13391\n",
      "constructorId             13391\n",
      "points                    13391\n",
      "position                  13391\n",
      "positionText              13391\n",
      "wins                      13391\n",
      "dtype: int64\n"
     ]
    }
   ],
   "source": [
    "import pandas as pd\n",
    "import numpy as np\n",
    "import seaborn as sns\n",
    "import matplotlib.pyplot as plt\n",
    "\n",
    "file_path = r\"C:\\Users\\RF\\Desktop\\constructor_standings.csv\"\n",
    "df = pd.read_csv(file_path)\n",
    "print(df.count())\n"
   ]
  },
  {
   "cell_type": "code",
   "execution_count": 51,
   "id": "6ee2946f-0f63-4a68-b560-87088985db93",
   "metadata": {},
   "outputs": [
    {
     "name": "stdout",
     "output_type": "stream",
     "text": [
      "constructorStandingsId    13391\n",
      "raceId                    13391\n",
      "constructorId             13391\n",
      "points                    13391\n",
      "position                  13391\n",
      "positionText              13391\n",
      "wins                      13391\n",
      "dtype: int64\n",
      "Removed 0 duplicate rows.\n"
     ]
    }
   ],
   "source": [
    "import pandas as pd\n",
    "import numpy as np\n",
    "import seaborn as sns\n",
    "import matplotlib.pyplot as plt\n",
    "\n",
    "file_path = r\"C:\\Users\\RF\\Desktop\\constructor_standings.csv\"\n",
    "df = pd.read_csv(file_path)\n",
    "\n",
    "print(df.count())\n",
    "\n",
    "# Drop duplicate rows\n",
    "df.drop_duplicates(inplace=True)\n",
    "\n",
    "before = df.shape[0]\n",
    "df.drop_duplicates(inplace=True)\n",
    "after = df.shape[0]\n",
    "print(f\"Removed {before - after} duplicate rows.\")\n",
    "\n"
   ]
  },
  {
   "cell_type": "code",
   "execution_count": 53,
   "id": "83fb1a6d-46b2-4e10-99d4-c4e3666b2df0",
   "metadata": {},
   "outputs": [
    {
     "data": {
      "text/plain": [
       "constructorStandingsId    0\n",
       "raceId                    0\n",
       "constructorId             0\n",
       "points                    0\n",
       "position                  0\n",
       "positionText              0\n",
       "wins                      0\n",
       "dtype: int64"
      ]
     },
     "execution_count": 53,
     "metadata": {},
     "output_type": "execute_result"
    }
   ],
   "source": [
    "import pandas as pd\n",
    "import numpy as np\n",
    "import seaborn as sns\n",
    "import matplotlib.pyplot as plt\n",
    "\n",
    "file_path = r\"C:\\Users\\RF\\Desktop\\constructor_standings.csv\"\n",
    "df = pd.read_csv(file_path)\n",
    "df.isnull().sum()"
   ]
  },
  {
   "cell_type": "code",
   "execution_count": 55,
   "id": "74c8cf89-1e3f-445f-b36e-55e8c60b0578",
   "metadata": {},
   "outputs": [
    {
     "data": {
      "text/html": [
       "<div>\n",
       "<style scoped>\n",
       "    .dataframe tbody tr th:only-of-type {\n",
       "        vertical-align: middle;\n",
       "    }\n",
       "\n",
       "    .dataframe tbody tr th {\n",
       "        vertical-align: top;\n",
       "    }\n",
       "\n",
       "    .dataframe thead th {\n",
       "        text-align: right;\n",
       "    }\n",
       "</style>\n",
       "<table border=\"1\" class=\"dataframe\">\n",
       "  <thead>\n",
       "    <tr style=\"text-align: right;\">\n",
       "      <th></th>\n",
       "      <th>constructorStandingsId</th>\n",
       "      <th>raceId</th>\n",
       "      <th>constructorId</th>\n",
       "      <th>points</th>\n",
       "      <th>position</th>\n",
       "      <th>positionText</th>\n",
       "      <th>wins</th>\n",
       "    </tr>\n",
       "  </thead>\n",
       "  <tbody>\n",
       "    <tr>\n",
       "      <th>0</th>\n",
       "      <td>1</td>\n",
       "      <td>18</td>\n",
       "      <td>1</td>\n",
       "      <td>14.0</td>\n",
       "      <td>1</td>\n",
       "      <td>1</td>\n",
       "      <td>1</td>\n",
       "    </tr>\n",
       "    <tr>\n",
       "      <th>1</th>\n",
       "      <td>2</td>\n",
       "      <td>18</td>\n",
       "      <td>2</td>\n",
       "      <td>8.0</td>\n",
       "      <td>3</td>\n",
       "      <td>3</td>\n",
       "      <td>0</td>\n",
       "    </tr>\n",
       "    <tr>\n",
       "      <th>2</th>\n",
       "      <td>3</td>\n",
       "      <td>18</td>\n",
       "      <td>3</td>\n",
       "      <td>9.0</td>\n",
       "      <td>2</td>\n",
       "      <td>2</td>\n",
       "      <td>0</td>\n",
       "    </tr>\n",
       "    <tr>\n",
       "      <th>3</th>\n",
       "      <td>4</td>\n",
       "      <td>18</td>\n",
       "      <td>4</td>\n",
       "      <td>5.0</td>\n",
       "      <td>4</td>\n",
       "      <td>4</td>\n",
       "      <td>0</td>\n",
       "    </tr>\n",
       "    <tr>\n",
       "      <th>4</th>\n",
       "      <td>5</td>\n",
       "      <td>18</td>\n",
       "      <td>5</td>\n",
       "      <td>2.0</td>\n",
       "      <td>5</td>\n",
       "      <td>5</td>\n",
       "      <td>0</td>\n",
       "    </tr>\n",
       "    <tr>\n",
       "      <th>...</th>\n",
       "      <td>...</td>\n",
       "      <td>...</td>\n",
       "      <td>...</td>\n",
       "      <td>...</td>\n",
       "      <td>...</td>\n",
       "      <td>...</td>\n",
       "      <td>...</td>\n",
       "    </tr>\n",
       "    <tr>\n",
       "      <th>13386</th>\n",
       "      <td>28978</td>\n",
       "      <td>1144</td>\n",
       "      <td>15</td>\n",
       "      <td>4.0</td>\n",
       "      <td>10</td>\n",
       "      <td>10</td>\n",
       "      <td>0</td>\n",
       "    </tr>\n",
       "    <tr>\n",
       "      <th>13387</th>\n",
       "      <td>28979</td>\n",
       "      <td>1144</td>\n",
       "      <td>210</td>\n",
       "      <td>58.0</td>\n",
       "      <td>7</td>\n",
       "      <td>7</td>\n",
       "      <td>0</td>\n",
       "    </tr>\n",
       "    <tr>\n",
       "      <th>13388</th>\n",
       "      <td>28980</td>\n",
       "      <td>1144</td>\n",
       "      <td>215</td>\n",
       "      <td>46.0</td>\n",
       "      <td>8</td>\n",
       "      <td>8</td>\n",
       "      <td>0</td>\n",
       "    </tr>\n",
       "    <tr>\n",
       "      <th>13389</th>\n",
       "      <td>28981</td>\n",
       "      <td>1144</td>\n",
       "      <td>3</td>\n",
       "      <td>17.0</td>\n",
       "      <td>9</td>\n",
       "      <td>9</td>\n",
       "      <td>0</td>\n",
       "    </tr>\n",
       "    <tr>\n",
       "      <th>13390</th>\n",
       "      <td>28982</td>\n",
       "      <td>1144</td>\n",
       "      <td>214</td>\n",
       "      <td>65.0</td>\n",
       "      <td>6</td>\n",
       "      <td>6</td>\n",
       "      <td>0</td>\n",
       "    </tr>\n",
       "  </tbody>\n",
       "</table>\n",
       "<p>13391 rows × 7 columns</p>\n",
       "</div>"
      ],
      "text/plain": [
       "       constructorStandingsId  raceId  constructorId  points  position  \\\n",
       "0                           1      18              1    14.0         1   \n",
       "1                           2      18              2     8.0         3   \n",
       "2                           3      18              3     9.0         2   \n",
       "3                           4      18              4     5.0         4   \n",
       "4                           5      18              5     2.0         5   \n",
       "...                       ...     ...            ...     ...       ...   \n",
       "13386                   28978    1144             15     4.0        10   \n",
       "13387                   28979    1144            210    58.0         7   \n",
       "13388                   28980    1144            215    46.0         8   \n",
       "13389                   28981    1144              3    17.0         9   \n",
       "13390                   28982    1144            214    65.0         6   \n",
       "\n",
       "      positionText  wins  \n",
       "0                1     1  \n",
       "1                3     0  \n",
       "2                2     0  \n",
       "3                4     0  \n",
       "4                5     0  \n",
       "...            ...   ...  \n",
       "13386           10     0  \n",
       "13387            7     0  \n",
       "13388            8     0  \n",
       "13389            9     0  \n",
       "13390            6     0  \n",
       "\n",
       "[13391 rows x 7 columns]"
      ]
     },
     "execution_count": 55,
     "metadata": {},
     "output_type": "execute_result"
    }
   ],
   "source": [
    "import pandas as pd\n",
    "import numpy as np\n",
    "import seaborn as sns\n",
    "import matplotlib.pyplot as plt\n",
    "\n",
    "file_path = r\"C:\\Users\\RF\\Desktop\\constructor_standings.csv\"\n",
    "df = pd.read_csv(file_path)\n",
    "df.dropna()"
   ]
  },
  {
   "cell_type": "code",
   "execution_count": 57,
   "id": "e63e5791-4e09-41da-a49e-3f3ca26cc595",
   "metadata": {},
   "outputs": [
    {
     "data": {
      "image/png": "[encoded data removed]",
      "text/plain": [
       "<Figure size 640x480 with 1 Axes>"
      ]
     },
     "metadata": {},
     "output_type": "display_data"
    }
   ],
   "source": [
    "import pandas as pd\n",
    "import numpy as np\n",
    "import seaborn as sns\n",
    "import matplotlib.pyplot as plt\n",
    "\n",
    "file_path = r\"C:\\Users\\RF\\Desktop\\constructor_standings.csv\"\n",
    "df = pd.read_csv(file_path)\n",
    "constructor_wins = df.groupby('constructorId')['wins'].sum().reset_index()\n",
    "sns.barplot(x='constructorId', y='wins', data=constructor_wins)\n",
    "plt.title('Total Wins by Constructor')\n",
    "plt.xlabel('Constructor ID')\n",
    "plt.ylabel('Wins')\n",
    "plt.show()\n"
   ]
  },
  {
   "cell_type": "code",
   "execution_count": 59,
   "id": "1e0a8932-89d3-4945-b99a-3d34717a6988",
   "metadata": {},
   "outputs": [
    {
     "data": {
      "image/png": "[encoded data removed]",
      "text/plain": [
       "<Figure size 640x480 with 1 Axes>"
      ]
     },
     "metadata": {},
     "output_type": "display_data"
    }
   ],
   "source": [
    "import pandas as pd\n",
    "import numpy as np\n",
    "import seaborn as sns\n",
    "import matplotlib.pyplot as plt\n",
    "\n",
    "file_path = r\"C:\\Users\\RF\\Desktop\\constructor_standings.csv\"\n",
    "df = pd.read_csv(file_path)\n",
    "sns.boxplot(x=df['points'])\n",
    "plt.title('Boxplot of Points')\n",
    "plt.xlabel('Points')\n",
    "plt.show()\n"
   ]
  },
  {
   "cell_type": "code",
   "execution_count": 63,
   "id": "cebe860f-5dfb-4d13-978f-2c63dac53eee",
   "metadata": {},
   "outputs": [
    {
     "data": {
      "image/png": "[encoded data removed]",
      "text/plain": [
       "<Figure size 640x480 with 1 Axes>"
      ]
     },
     "metadata": {},
     "output_type": "display_data"
    }
   ],
   "source": [
    "import pandas as pd\n",
    "import numpy as np\n",
    "import seaborn as sns\n",
    "import matplotlib.pyplot as plt\n",
    "\n",
    "file_path = r\"C:\\Users\\RF\\Desktop\\constructor_standings.csv\"\n",
    "df = pd.read_csv(file_path)\n",
    "sns.heatmap(df.isnull(), cbar=False, cmap='viridis')\n",
    "plt.title('Missing Data Heatmap')\n",
    "plt.show()\n"
   ]
  },
  {
   "cell_type": "code",
   "execution_count": 65,
   "id": "b352df2f-f663-4579-a9a6-3e765f667e38",
   "metadata": {},
   "outputs": [
    {
     "data": {
      "image/png": "[encoded data removed]",
      "text/plain": [
       "<Figure size 640x480 with 1 Axes>"
      ]
     },
     "metadata": {},
     "output_type": "display_data"
    }
   ],
   "source": [
    "import pandas as pd\n",
    "import numpy as np\n",
    "import seaborn as sns\n",
    "import matplotlib.pyplot as plt\n",
    "\n",
    "file_path = r\"C:\\Users\\RF\\Desktop\\constructor_standings.csv\"\n",
    "df = pd.read_csv(file_path)\n",
    "sns.histplot(df['points'], bins=20, kde=True)\n",
    "plt.title('Distribution of Points')\n",
    "plt.xlabel('Points')\n",
    "plt.ylabel('Frequency')\n",
    "plt.show()\n"
   ]
  },
  {
   "cell_type": "code",
   "execution_count": null,
   "id": "c0a6186e-a552-44da-abae-aa41f4deb8de",
   "metadata": {},
   "outputs": [],
   "source": []
  }
 ],
 "metadata": {
  "kernelspec": {
   "display_name": "Python [conda env:base] *",
   "language": "python",
   "name": "conda-base-py"
  },
  "language_info": {
   "codemirror_mode": {
    "name": "ipython",
    "version": 3
   },
   "file_extension": ".py",
   "mimetype": "text/x-python",
   "name": "python",
   "nbconvert_exporter": "python",
   "pygments_lexer": "ipython3",
   "version": "3.12.7"
  }
 },
 "nbformat": 4,
 "nbformat_minor": 5
}

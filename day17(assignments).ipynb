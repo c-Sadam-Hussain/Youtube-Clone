{
 "cells": [
  {
   "cell_type": "code",
   "execution_count": null,
   "id": "b57c3bca-1fe1-4de0-8477-3fdaefa5a659",
   "metadata": {},
   "outputs": [],
   "source": [
    "implement your own matrix multiplication function ( without using np dot )\n",
    "validate it against numpy's builtin result"
   ]
  },
  {
   "cell_type": "code",
   "execution_count": 10,
   "id": "dd269469-becd-46c1-9501-d2a83ecdce32",
   "metadata": {},
   "outputs": [
    {
     "name": "stdout",
     "output_type": "stream",
     "text": [
      "Custom Result:\n",
      " [[19 22]\n",
      " [43 50]]\n",
      "Numpy Result:\n",
      " [[19 22]\n",
      " [43 50]]\n",
      "Match: True\n"
     ]
    }
   ],
   "source": [
    "import numpy as np\n",
    "\n",
    "def matmul_custom(A, B):\n",
    "    rows_A, cols_A = len(A), len(A[0])\n",
    "    rows_B, cols_B = len(B), len(B[0])\n",
    "    \n",
    "    if cols_A != rows_B:\n",
    "        raise ValueError(\"Number of columns of A must equal number of rows of B\")\n",
    "\n",
    "    result = [[0 for _ in range(cols_B)] for _ in range(rows_A)]\n",
    "\n",
    "    for i in range(rows_A):\n",
    "        for j in range(cols_B):\n",
    "            for k in range(cols_A):\n",
    "                result[i][j] += A[i][k] * B[k][j]\n",
    "\n",
    "    return result\n",
    "\n",
    "A = np.array([[1, 2], [3, 4]])\n",
    "B = np.array([[5, 6], [7, 8]])\n",
    "\n",
    "# Custom result\n",
    "custom_result = matmul_custom(A.tolist(), B.tolist())\n",
    "\n",
    "# Numpy result\n",
    "np_result = np.dot(A, B)\n",
    "\n",
    "# Validation\n",
    "print(\"Custom Result:\\n\", np.array(custom_result))\n",
    "print(\"Numpy Result:\\n\", np_result)\n",
    "print(\"Match:\", np.allclose(custom_result, np_result))\n"
   ]
  },
  {
   "cell_type": "code",
   "execution_count": 1,
   "id": "e33cc997-8389-4ba2-a4b1-663b2557e688",
   "metadata": {},
   "outputs": [
    {
     "ename": "SyntaxError",
     "evalue": "invalid syntax (2323088922.py, line 1)",
     "output_type": "error",
     "traceback": [
      "\u001b[1;36m  Cell \u001b[1;32mIn[1], line 1\u001b[1;36m\u001b[0m\n\u001b[1;33m    create a symmetric matrix and compute its:\u001b[0m\n\u001b[1;37m           ^\u001b[0m\n\u001b[1;31mSyntaxError\u001b[0m\u001b[1;31m:\u001b[0m invalid syntax\n"
     ]
    }
   ],
   "source": [
    "create a symmetric matrix and compute its:\n",
    "eigenvale \n",
    "eigenvectors"
   ]
  },
  {
   "cell_type": "code",
   "execution_count": null,
   "id": "1e932513-dbaa-4a9f-951c-3fdad6297122",
   "metadata": {},
   "outputs": [],
   "source": [
    "load an image as numpy array (you can use matplotlib.image.imread)\n",
    "converet to greyscale\n",
    "create a binary mask to highlight area above a brightness threshold\n",
    "apply a guassian blur manually using convolution kernal"
   ]
  },
  {
   "cell_type": "code",
   "execution_count": null,
   "id": "3f15ee98-1536-4b17-b705-423fd5e586d4",
   "metadata": {},
   "outputs": [],
   "source": [
    "simulate multiple 2d or 3d random walks using vectorized numpy operation\n",
    "plot the end positiion using matplotlib"
   ]
  }
 ],
 "metadata": {
  "kernelspec": {
   "display_name": "Python [conda env:base] *",
   "language": "python",
   "name": "conda-base-py"
  },
  "language_info": {
   "codemirror_mode": {
    "name": "ipython",
    "version": 3
   },
   "file_extension": ".py",
   "mimetype": "text/x-python",
   "name": "python",
   "nbconvert_exporter": "python",
   "pygments_lexer": "ipython3",
   "version": "3.12.7"
  }
 },
 "nbformat": 4,
 "nbformat_minor": 5
}
